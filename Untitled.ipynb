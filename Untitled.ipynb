{
 "cells": [
  {
   "cell_type": "code",
   "execution_count": 1,
   "id": "19325cef",
   "metadata": {},
   "outputs": [
    {
     "name": "stdout",
     "output_type": "stream",
     "text": [
      "Collecting msal\n",
      "  Downloading msal-1.20.0-py2.py3-none-any.whl (90 kB)\n",
      "     ---------------------------------------- 90.0/90.0 kB 1.7 MB/s eta 0:00:00\n",
      "Requirement already satisfied: requests<3,>=2.0.0 in d:\\evolutyzlabs\\elp_backend\\env\\lib\\site-packages (from msal) (2.28.1)\n",
      "Collecting PyJWT[crypto]<3,>=1.0.0\n",
      "  Downloading PyJWT-2.6.0-py3-none-any.whl (20 kB)\n",
      "Collecting cryptography<41,>=0.6\n",
      "  Downloading cryptography-38.0.3-cp36-abi3-win_amd64.whl (2.4 MB)\n",
      "     ---------------------------------------- 2.4/2.4 MB 11.1 MB/s eta 0:00:00\n",
      "Collecting cffi>=1.12\n",
      "  Downloading cffi-1.15.1-cp39-cp39-win_amd64.whl (179 kB)\n",
      "     ------------------------------------- 179.1/179.1 kB 11.3 MB/s eta 0:00:00\n",
      "Requirement already satisfied: idna<4,>=2.5 in d:\\evolutyzlabs\\elp_backend\\env\\lib\\site-packages (from requests<3,>=2.0.0->msal) (3.4)\n",
      "Requirement already satisfied: certifi>=2017.4.17 in d:\\evolutyzlabs\\elp_backend\\env\\lib\\site-packages (from requests<3,>=2.0.0->msal) (2022.9.24)\n",
      "Requirement already satisfied: charset-normalizer<3,>=2 in d:\\evolutyzlabs\\elp_backend\\env\\lib\\site-packages (from requests<3,>=2.0.0->msal) (2.1.1)\n",
      "Requirement already satisfied: urllib3<1.27,>=1.21.1 in d:\\evolutyzlabs\\elp_backend\\env\\lib\\site-packages (from requests<3,>=2.0.0->msal) (1.26.12)\n",
      "Collecting pycparser\n",
      "  Downloading pycparser-2.21-py2.py3-none-any.whl (118 kB)\n",
      "     -------------------------------------- 118.7/118.7 kB 6.8 MB/s eta 0:00:00\n",
      "Installing collected packages: PyJWT, pycparser, cffi, cryptography, msal\n",
      "Successfully installed PyJWT-2.6.0 cffi-1.15.1 cryptography-38.0.3 msal-1.20.0 pycparser-2.21\n"
     ]
    }
   ],
   "source": [
    "pip install msal"
   ]
  },
  {
   "cell_type": "code",
   "execution_count": 10,
   "id": "616aab70",
   "metadata": {},
   "outputs": [],
   "source": [
    "from msal import PublicClientApplication\n",
    "app = PublicClientApplication(\n",
    "    \"28d4f4eb-5c8b-4655-8465-e233e71ac3c8\",\n",
    "    authority=\"https://login.microsoftonline.com/pravalikareddy6yahoo.onmicrosoft.com\")"
   ]
  },
  {
   "cell_type": "code",
   "execution_count": 11,
   "id": "1e67e3b3",
   "metadata": {},
   "outputs": [],
   "source": [
    "result = None  # It is just an initial value. Please follow instructions below."
   ]
  },
  {
   "cell_type": "code",
   "execution_count": 12,
   "id": "64c60a5a",
   "metadata": {},
   "outputs": [],
   "source": [
    "# We now check the cache to see\n",
    "# whether we already have some accounts that the end user already used to sign in before.\n",
    "accounts = app.get_accounts()"
   ]
  },
  {
   "cell_type": "code",
   "execution_count": 13,
   "id": "687d9489",
   "metadata": {},
   "outputs": [],
   "source": [
    "if accounts:\n",
    "    # If so, you could then somehow display these accounts and let end user choose\n",
    "    print(\"Pick the account you want to use to proceed:\")\n",
    "    for a in accounts:\n",
    "        print(a[\"username\"])\n",
    "    # Assuming the end user chose this one\n",
    "    chosen = accounts[0]\n",
    "    # Now let's try to find a token in cache for this account\n",
    "    result = app.acquire_token_silent([\"your_scope\"], account=chosen)"
   ]
  },
  {
   "cell_type": "code",
   "execution_count": 14,
   "id": "6184de16",
   "metadata": {},
   "outputs": [
    {
     "data": {
      "text/plain": [
       "[]"
      ]
     },
     "execution_count": 14,
     "metadata": {},
     "output_type": "execute_result"
    }
   ],
   "source": [
    "accounts"
   ]
  },
  {
   "cell_type": "code",
   "execution_count": 15,
   "id": "5ac650b6",
   "metadata": {},
   "outputs": [
    {
     "ename": "AttributeError",
     "evalue": "'PublicClientApplication' object has no attribute 'acquire_token_by_one_of_the_actual_method'",
     "output_type": "error",
     "traceback": [
      "\u001b[1;31m-----------------------------------------------------------\u001b[0m",
      "\u001b[1;31mAttributeError\u001b[0m            Traceback (most recent call last)",
      "Input \u001b[1;32mIn [15]\u001b[0m, in \u001b[0;36m<cell line: 1>\u001b[1;34m()\u001b[0m\n\u001b[0;32m      1\u001b[0m \u001b[38;5;28;01mif\u001b[39;00m \u001b[38;5;129;01mnot\u001b[39;00m result:\n\u001b[0;32m      2\u001b[0m     \u001b[38;5;66;03m# So no suitable token exists in cache. Let's get a new one from Azure AD.\u001b[39;00m\n\u001b[1;32m----> 3\u001b[0m     result \u001b[38;5;241m=\u001b[39m \u001b[43mapp\u001b[49m\u001b[38;5;241;43m.\u001b[39;49m\u001b[43macquire_token_by_one_of_the_actual_method\u001b[49m(\u001b[38;5;241m.\u001b[39m\u001b[38;5;241m.\u001b[39m\u001b[38;5;241m.\u001b[39m, scopes\u001b[38;5;241m=\u001b[39m[\u001b[38;5;124m\"\u001b[39m\u001b[38;5;124mUser.Read\u001b[39m\u001b[38;5;124m\"\u001b[39m])\n\u001b[0;32m      4\u001b[0m \u001b[38;5;28;01mif\u001b[39;00m \u001b[38;5;124m\"\u001b[39m\u001b[38;5;124maccess_token\u001b[39m\u001b[38;5;124m\"\u001b[39m \u001b[38;5;129;01min\u001b[39;00m result:\n\u001b[0;32m      5\u001b[0m     \u001b[38;5;28mprint\u001b[39m(result[\u001b[38;5;124m\"\u001b[39m\u001b[38;5;124maccess_token\u001b[39m\u001b[38;5;124m\"\u001b[39m])  \u001b[38;5;66;03m# Yay!\u001b[39;00m\n",
      "\u001b[1;31mAttributeError\u001b[0m: 'PublicClientApplication' object has no attribute 'acquire_token_by_one_of_the_actual_method'"
     ]
    }
   ],
   "source": [
    "if not result:\n",
    "    # So no suitable token exists in cache. Let's get a new one from Azure AD.\n",
    "    result = app.acquire_token_by_one_of_the_actual_method(..., scopes=[\"User.Read\"])\n",
    "if \"access_token\" in result:\n",
    "    print(result[\"access_token\"])  # Yay!\n",
    "else:\n",
    "    print(result.get(\"error\"))\n",
    "    print(result.get(\"error_description\"))\n",
    "    print(result.get(\"correlation_id\"))  # You may need this when reporting a bug"
   ]
  },
  {
   "cell_type": "code",
   "execution_count": null,
   "id": "5262d46f",
   "metadata": {},
   "outputs": [],
   "source": []
  }
 ],
 "metadata": {
  "kernelspec": {
   "display_name": "Python 3",
   "language": "python",
   "name": "python3"
  },
  "language_info": {
   "codemirror_mode": {
    "name": "ipython",
    "version": 3
   },
   "file_extension": ".py",
   "mimetype": "text/x-python",
   "name": "python",
   "nbconvert_exporter": "python",
   "pygments_lexer": "ipython3",
   "version": "3.12.0a4 (tags/v3.12.0a4:3d5d3f7, Jan 10 2023, 14:12:57) [MSC v.1934 64 bit (AMD64)]"
  },
  "vscode": {
   "interpreter": {
    "hash": "eabca979b0553fa6d87e9a00c352604d3b703d4afc9641643dd42376492b80f6"
   }
  }
 },
 "nbformat": 4,
 "nbformat_minor": 5
}
